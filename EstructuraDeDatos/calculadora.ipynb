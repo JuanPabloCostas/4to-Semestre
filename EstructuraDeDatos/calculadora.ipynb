{
 "cells": [
  {
   "cell_type": "code",
   "execution_count": 22,
   "metadata": {},
   "outputs": [
    {
     "name": "stdout",
     "output_type": "stream",
     "text": [
      "[44, 88, 33, 6600, 0]\n"
     ]
    }
   ],
   "source": [
    "import math as m\n",
    "\n",
    "def actualizar(test):\n",
    "    aux = []\n",
    "    for i in range(5):\n",
    "        aux.append(test[i] + (test[i]) + m.ceil((test[i] * 0.2)))\n",
    "    return aux\n",
    "\n",
    "def actualizarPro(valores):\n",
    "    aux = []\n",
    "    for i in range(5):\n",
    "        aux.append(valores[i] + m.trunc((valores[i] * 0.2)) + m.trunc((valores[i] * 0.2) + 1))\n",
    "    return aux\n",
    "\n",
    "valores = [20,40,15,3000,0]\n",
    "\n",
    "print(actualizar(valores))\n"
   ]
  },
  {
   "cell_type": "code",
   "execution_count": 4,
   "metadata": {},
   "outputs": [
    {
     "name": "stdout",
     "output_type": "stream",
     "text": [
      "hola\n",
      "[80, 45, 73, 200, 15]\n"
     ]
    }
   ],
   "source": [
    "print(\"hola\")\n",
    "print(valores)"
   ]
  },
  {
   "attachments": {},
   "cell_type": "markdown",
   "metadata": {},
   "source": [
    "172.14.0.0\n",
    "-Recursos Humanos\n",
    "176, 99, 161, 440, 33,\n",
    "\n",
    "-IT \n",
    "1100, 2640, 660, 22, 55,\n",
    "\n",
    "-HD\n",
    "55, 110, 1760, 66, 198,\n",
    "\n",
    "-Ventas\n",
    "22, 176, 330, 5060, 44,\n",
    "\n",
    "-Produccion\n",
    "44, 88, 33, 6600,\n",
    "\n",
    "-Ventas en línea\n",
    "2091,\n",
    "\n",
    "-Inalambrica\n",
    "250,250,250,250,250,\n",
    "\n",
    "-Enlaces\n",
    "2,2,2,2,2\n"
   ]
  },
  {
   "cell_type": "code",
   "execution_count": 24,
   "metadata": {},
   "outputs": [
    {
     "name": "stdout",
     "output_type": "stream",
     "text": [
      "[6600, 5060, 2640, 2091, 1760, 1100, 660, 440, 330, 250, 250, 250, 250, 250, 198, 176, 176, 161, 110, 99, 88, 66, 55, 55, 44, 44, 33, 33, 22, 22]\n"
     ]
    }
   ],
   "source": [
    "from random import randint\n",
    "\n",
    "\n",
    "def quickSort(L, ascending=True):\n",
    "    if len(L) <= 1:\n",
    "        return L\n",
    "    smaller, equal, larger = [], [], []\n",
    "    pivot = L[randint(0, len(L) - 1)]\n",
    "\n",
    "    for x in L:\n",
    "        if x < pivot:\n",
    "            smaller.append(x)\n",
    "        elif x == pivot:\n",
    "            equal.append(x)\n",
    "        else:\n",
    "            larger.append(x)\n",
    "\n",
    "    larger = quickSort(larger, ascending=ascending)\n",
    "    smaller = quickSort(smaller, ascending=ascending)\n",
    "\n",
    "    if ascending:\n",
    "        final = smaller + equal + larger\n",
    "    else:\n",
    "        final = larger + equal + smaller\n",
    "    return final\n",
    "\n",
    "\n",
    "l2 = list([176, 99, 161, 440, 33,1100, 2640, 660, 22, 55,55, 110, 1760, 66, 198,22, 176, 330, 5060, 44,44, 88, 33, 6600,2091,250,250,250,250,250])\n",
    "print(quickSort(l2, ascending=False))"
   ]
  }
 ],
 "metadata": {
  "kernelspec": {
   "display_name": "Python 3",
   "language": "python",
   "name": "python3"
  },
  "language_info": {
   "codemirror_mode": {
    "name": "ipython",
    "version": 3
   },
   "file_extension": ".py",
   "mimetype": "text/x-python",
   "name": "python",
   "nbconvert_exporter": "python",
   "pygments_lexer": "ipython3",
   "version": "3.11.3"
  },
  "orig_nbformat": 4
 },
 "nbformat": 4,
 "nbformat_minor": 2
}
