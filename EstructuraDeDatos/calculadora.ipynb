{
 "cells": [
  {
   "cell_type": "code",
   "execution_count": 43,
   "metadata": {},
   "outputs": [
    {
     "name": "stdout",
     "output_type": "stream",
     "text": [
      "2048\n",
      "11\n",
      "21\n",
      "[255, 255, 248, 0]\n",
      "[0, 0, 7, 255]\n",
      "[148, 220, 0, 0]\n",
      "[148, 220, 7, 255]\n"
     ]
    }
   ],
   "source": [
    "class mascara:\n",
    "  def __init__(self, x1, x2, x3, x4):\n",
    "    self.x1 = x1\n",
    "    self.x2 = x2\n",
    "    self.x3 = x3\n",
    "    self.x4 = x4\n",
    "\n",
    "class ip:\n",
    "  def __init__(self, x1, x2, x3, x4, tm):\n",
    "    self.x1 = x1\n",
    "    self.x2 = x2\n",
    "    self.x3 = x3\n",
    "    self.x4 = x4\n",
    "    self.tm = tm\n",
    "\n",
    "\n",
    "n = 1500 + 2\n",
    "aux = 1\n",
    "pivote = 0\n",
    "while (n > aux):\n",
    "    aux *= 2\n",
    "    pivote += 1\n",
    "print(aux)\n",
    "print(pivote)\n",
    "\n",
    "yo = 32 - pivote # Mascara\n",
    "print(yo)\n",
    "\n",
    "array = [255,255,255,255]\n",
    "array2 = [255,255,255,255]\n",
    "for i in range (3,0,-1):\n",
    "    if(pivote >= 8):\n",
    "        array[i] = 0\n",
    "        # print(0)\n",
    "        pivote -= 8\n",
    "    elif(pivote > 0):\n",
    "        array[i] -= (2 ** pivote - 1)\n",
    "        # print(255-(2 ** pivote - 1))\n",
    "        pivote -= pivote\n",
    "print(array) ## Mascara\n",
    "for i in range (4):\n",
    "   array2[i] -= array[i]\n",
    "\n",
    "print(array2)#auxiliar\n",
    "\n",
    "aux = [148,220,0,0]\n",
    "print(aux) #PRicipal\n",
    "\n",
    "for i in range(4):\n",
    "   aux[i] += array2[i]\n",
    "\n",
    "print(aux) ##FInal\n",
    "   \n",
    "\n"
   ]
  },
  {
   "cell_type": "code",
   "execution_count": 54,
   "metadata": {},
   "outputs": [
    {
     "name": "stdout",
     "output_type": "stream",
     "text": [
      "Rango ip: [148, 220, 7, 255] - [148, 220, 7, 255]\n",
      "Mascara: [255, 255, 248, 0]\n"
     ]
    }
   ],
   "source": [
    "\n",
    "\n",
    "def sacarMascara(hosts):\n",
    "    n = hosts + 2\n",
    "    aux = 1\n",
    "    pivote = 0\n",
    "    while (n > aux):\n",
    "        aux *= 2\n",
    "        pivote += 1\n",
    "\n",
    "    array = [255,255,255,255]\n",
    "    for i in range (3,0,-1):\n",
    "        if(pivote >= 8):\n",
    "            array[i] = 0\n",
    "            # print(0)\n",
    "            pivote -= 8\n",
    "        elif(pivote > 0):\n",
    "            array[i] -= (2 ** pivote - 1)\n",
    "            # print(255-(2 ** pivote - 1))\n",
    "            pivote -= pivote\n",
    "    # print(array) ## Mascara\n",
    "    return array\n",
    "\n",
    "def Final(ipAux,mask):\n",
    "    array2 = [255,255,255,255]\n",
    "    for i in range (4):\n",
    "        array2[i] -= mask[i]\n",
    "\n",
    "    # print(array2)#auxiliar\n",
    "\n",
    "    # aux = [148,220,0,0]\n",
    "    # print(ip) #PRicipal\n",
    "\n",
    "    for i in range(4):\n",
    "        ipAux[i] += array2[i]\n",
    "\n",
    "    return ipAux\n",
    "\n",
    "\n",
    "ip = [148,220,0,0]\n",
    "hosts = 1500\n",
    "\n",
    "mask = sacarMascara(hosts)\n",
    "# print(mask)\n",
    "\n",
    "final = Final(ip,mask)\n",
    "# print(final)\n",
    "\n",
    "print(\"Rango ip:\" , ip , \"-\" , final)\n",
    "print(\"Mascara:\" , mask)"
   ]
  },
  {
   "cell_type": "code",
   "execution_count": 55,
   "metadata": {},
   "outputs": [
    {
     "name": "stdout",
     "output_type": "stream",
     "text": [
      "50000000\n"
     ]
    }
   ],
   "source": [
    "print(2**7*5**8)"
   ]
  }
 ],
 "metadata": {
  "kernelspec": {
   "display_name": "Python 3",
   "language": "python",
   "name": "python3"
  },
  "language_info": {
   "codemirror_mode": {
    "name": "ipython",
    "version": 3
   },
   "file_extension": ".py",
   "mimetype": "text/x-python",
   "name": "python",
   "nbconvert_exporter": "python",
   "pygments_lexer": "ipython3",
   "version": "3.11.3"
  },
  "orig_nbformat": 4
 },
 "nbformat": 4,
 "nbformat_minor": 2
}
